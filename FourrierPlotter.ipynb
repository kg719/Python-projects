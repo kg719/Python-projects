{
 "cells": [
  {
   "cell_type": "code",
   "execution_count": 10,
   "metadata": {},
   "outputs": [
    {
     "name": "stdout",
     "output_type": "stream",
     "text": [
      "5\n",
      "2\n"
     ]
    }
   ],
   "source": [
    "a = 15.45\n",
    "r= str(a)\n",
    "print(len(r))\n",
    "nd=0\n",
    "if \".\" in str(a):\n",
    "    nd = r.index(\".\")"
   ]
  },
  {
   "cell_type": "code",
   "execution_count": 87,
   "metadata": {},
   "outputs": [
    {
     "data": {
      "image/png": "[encoded data removed]",
      "text/plain": [
       "<Figure size 432x288 with 1 Axes>"
      ]
     },
     "metadata": {
      "needs_background": "light"
     },
     "output_type": "display_data"
    }
   ],
   "source": [
    "import numpy as np\n",
    "import math\n",
    "import matplotlib\n",
    "import matplotlib.pyplot as plt\n",
    "tabcoef=[]\n",
    "tabk =[]\n",
    "for i in range(1,100,2):\n",
    "    tabk.append(100*i)\n",
    "for i in range(1,100,2):\n",
    "    tabcoef.append(1/(2*i*math.pi))\n",
    "x = []\n",
    "y= []\n",
    "for i in range(-14000,14000,1):\n",
    "    x.append(i*(0.00001))\n",
    "for i in range(len(x)):\n",
    "    valueX = x[i]\n",
    "    valueY = 0\n",
    "    for j in range(len(tabk)):\n",
    "        bx= tabcoef[j]\n",
    "        xsin=tabk[j]\n",
    "        valueY+=bx*math.sin(xsin*valueX)\n",
    "    y.append(valueY)\n",
    "plt.plot(x,y)\n",
    "plt.show()"
   ]
  },
  {
   "cell_type": "code",
   "execution_count": 111,
   "metadata": {},
   "outputs": [],
   "source": [
    "class FourrierPlotter():\n",
    "    def __init__(self, input1 , input2, input3,input4):\n",
    "        self.mode = input1\n",
    "        self.startPoint = input2\n",
    "        self.endPoint = input3\n",
    "        self.expCoef = input4\n",
    "    def xformer(self):\n",
    "        # Used to convert decimal starting points into whole number to use range\n",
    "        self.tabX = np.linspace(self.startPoint,self.endPoint,10000)\n",
    "        print(self.tabX)"
   ]
  },
  {
   "cell_type": "code",
   "execution_count": 112,
   "metadata": {},
   "outputs": [
    {
     "name": "stdout",
     "output_type": "stream",
     "text": [
      "[ 30.566       30.60294809  30.63989619 ... 399.93610381 399.97305191\n",
      " 400.01      ]\n"
     ]
    }
   ],
   "source": [
    "R = FourrierPlotter(1,30.566,400.01,4)\n",
    "R.xformer()"
   ]
  },
  {
   "cell_type": "code",
   "execution_count": 110,
   "metadata": {},
   "outputs": [
    {
     "name": "stdout",
     "output_type": "stream",
     "text": [
      "[30.5666     30.57144382 30.57628765 ... 78.99031235 78.99515618\n",
      " 79.        ]\n"
     ]
    }
   ],
   "source": [
    "tabX = np.linspace(30.5666,79,10000)\n",
    "print(tabX)"
   ]
  },
  {
   "cell_type": "code",
   "execution_count": null,
   "metadata": {},
   "outputs": [],
   "source": [
    "#Une autre version de linspace qui n'est pas termi\n",
    "self.startPointT= 0\n",
    "        self.newStartPoint = 0\n",
    "        self.startNd = 0\n",
    "        if \".\" in str(self.startPoint):\n",
    "            self.startPointT= 1\n",
    "            self.newStart = int(self.startPoint*(10**(len(str(self.startPoint))-1-str(self.startPoint).index(\".\"))))\n",
    "            self.startNd = (len(str(self.startPoint))-1-str(self.startPoint).index(\".\"))\n",
    "        self.endPointT= 0\n",
    "        self.newEndPoint = 0\n",
    "        self.startNd = 0\n",
    "        if \".\" in str(self.endPoint):\n",
    "            self.endPointT= 1\n",
    "            self.newEnd = int(self.endPoint*(10**(len(str(self.endPoint))-1-str(self.endPoint).index(\".\"))))\n",
    "            self.endNd = (len(str(self.endPoint))-1-str(self.endPoint).index(\".\"))\n",
    "        if self.startPointT == 0 and self.endPointT == 0:\n",
    "            self.tabX = np.linspace(self.startPoint,self.endPoint,10000)"
   ]
  }
 ],
 "metadata": {
  "kernelspec": {
   "display_name": "Python 3",
   "language": "python",
   "name": "python3"
  },
  "language_info": {
   "codemirror_mode": {
    "name": "ipython",
    "version": 3
   },
   "file_extension": ".py",
   "mimetype": "text/x-python",
   "name": "python",
   "nbconvert_exporter": "python",
   "pygments_lexer": "ipython3",
   "version": "3.7.1"
  }
 },
 "nbformat": 4,
 "nbformat_minor": 2
}
