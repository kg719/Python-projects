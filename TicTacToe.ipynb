{
 "cells": [
  {
   "cell_type": "code",
   "execution_count": 1,
   "metadata": {
    "scrolled": true
   },
   "outputs": [],
   "source": [
    "import numpy as np\n",
    "import seaborn as sns\n",
    "import matplotlib.pyplot as plt\n",
    "\n",
    "damier =  np.array([ [0 for i in range (7)] for y in range (6) ])\n",
    "check = 0\n",
    "def MakeAMove():\n",
    "    indexToMove = int(input(\"Please enter the number of the case where you want to put your coin:\\n\"))\n",
    "    x = indexToMove % 6\n",
    "    y = int((indexToMove) / 7 )\n",
    "    damier[y][x]= 1\n",
    "    return\n",
    "\n",
    "def Checker(input1):\n",
    "    global check\n",
    "    checkedW = input1\n",
    "    modifiedDamier = []\n",
    "    for i in damier :\n",
    "        modifiedDamier.extend(list(i)) \n",
    "    playerIndex = []\n",
    "    ordiIndex = []\n",
    "    for i in range(len(modifiedDamier)):\n",
    "        if modifiedDamier[i] == 1:\n",
    "            playerIndex.append(i)\n",
    "        if modifiedDamier[i] == 2:\n",
    "            ordiIndex.append(i)\n",
    "    list4P = []\n",
    "    if len(playerIndex) > 4 and checkedW == 1:\n",
    "        for i in range( len( playerIndex) - 4):\n",
    "            x1 = playerIndex[i]\n",
    "            for j in range(len (playerIndex) - 3 - i ):\n",
    "                x2 = playerIndex [i + j + 1]\n",
    "                for k in range (len(playerIndex) - 2 - i - j):\n",
    "                    x3 = playerIndex[i + j + k + 1]\n",
    "                    for l in range (len(playerIndex) - 1 - i - j - k):\n",
    "                        x4 = playerIndex[i + j + k + l + 1]\n",
    "                    quatro = sorted([x1,x2,x3,x4])\n",
    "                    if quatro not in list4P and x1 != x2 and x1 != x3 and x2 != x3 and x1 != x4 and x2 != x4 and x3 != x4:\n",
    "                        list4P.append(quatro)\n",
    "        list4P.append( sorted ( [ playerIndex[-4], playerIndex[-3] ,playerIndex[-2] ,playerIndex[-1] ] ) ) \n",
    "        for i in list4P:\n",
    "            if i[0] + 9 == i[1] and i[1] + 9 == i[2] and i[2] + 9 == i[3] : # biais vers la droite\n",
    "                check = 1\n",
    "            if i[0] + 1 == i[1] and i[1] + 1 == i[2] and i[2] + 1 == i[3] : # cas vertical\n",
    "                check = 1\n",
    "            if i[0] + 7 == i[1] and i[1] + 7 == i[2] and i[2] + 7 == i[3] :  # cas biais vers la gauche\n",
    "                check = 1\n",
    "            if i[0] + 8 == i[1] and i[1] + 8 == i[2] and i[2] + 8 == i[3] : # cas horizontal\n",
    "                check = 1 \n",
    "        if check == 1:\n",
    "            print(\"The game is over\")\n",
    "    if len(playerIndex) == 4 and checkedW == 1:\n",
    "        list4P.append( sorted ( [ playerIndex[-4], playerIndex[-3] ,playerIndex[-2] ,playerIndex[-1] ] ) )\n",
    "        for i in list4P:\n",
    "            if i[0] + 9 == i[1] and i[1] + 9 == i[2] and i[2] + 9 == i[3] : # biais vers la droite\n",
    "                 check = 1\n",
    "            if i[0] + 1 == i[1] and i[1] + 1 == i[2] and i[2] + 1 == i[3] : # cas vertical\n",
    "                check = 1\n",
    "            if i[0] + 7 == i[1] and i[1] + 7 == i[2] and i[2] + 7 == i[3] :  # cas biais vers la gauche\n",
    "                check = 1\n",
    "            if i[0] + 8 == i[1] and i[1] + 8 == i[2] and i[2] + 8 == i[3] : # cas horizontal\n",
    "                check = 1 \n",
    "        if check == 1:\n",
    "            print(\"The game is over\")\n",
    "    list4O = []\n",
    "    if len(ordiIndex) > 4 and checkedW == 2:\n",
    "        for i in range( len( ordiIndex) - 4):\n",
    "            x1 = ordiIndex[i]\n",
    "            for j in range(len (ordiIndex) - 3 - i ):\n",
    "                x2 = ordiIndex [i + j + 1]\n",
    "                for k in range (len(ordiIndex) - 2 - i - j):\n",
    "                    x3 = ordiIndex[i + j + k + 1]\n",
    "                    for l in range (len(ordiIndex) - 1 - i - j - k):\n",
    "                        x4 = ordiIndex[i + j + k + l + 1]\n",
    "                    quatro = sorted([x1,x2,x3,x4])\n",
    "                    if quatro not in list4O and x1 != x2 and x1 != x3 and x2 != x3 and x1 != x4 and x2 != x4 and x3 != x4:\n",
    "                        list4O.append(quatro)\n",
    "        list4O.append( sorted ( [ playerIndex[-4], playerIndex[-3] ,playerIndex[-2] ,playerIndex[-1] ] ) ) \n",
    "        for i in list4O:\n",
    "            if i[0] + 9 == i[1] and i[1] + 9 == i[2] and i[2] + 9 == i[3] : # biais vers la droite\n",
    "                check = 1\n",
    "            if i[0] + 1 == i[1] and i[1] + 1 == i[2] and i[2] + 1 == i[3] : # cas vertical\n",
    "                check = 1\n",
    "            if i[0] + 7 == i[1] and i[1] + 7 == i[2] and i[2] + 7 == i[3] :  # cas biais vers la gauche\n",
    "                check = 1\n",
    "            if i[0] + 8 == i[1] and i[1] + 8 == i[2] and i[2] + 8 == i[3] : # cas horizontal\n",
    "                check = 1 \n",
    "        if check == 1:\n",
    "            print(\"The game is over\")\n",
    "    if len(ordiIndex) == 4 and checkedW == 2:\n",
    "        list4O.append( sorted ( [ playerIndex[-4], playerIndex[-3] ,playerIndex[-2] ,playerIndex[-1] ] ) )\n",
    "        check = 1\n",
    "        for i in list4P:\n",
    "            if i[0] + 9 == i[1] and i[1] + 9 == i[2] and i[2] + 9 == i[3] : # biais vers la droite\n",
    "                check = 1\n",
    "            if i[0] + 1 == i[1] and i[1] + 1 == i[2] and i[2] + 1 == i[3] : # cas vertical\n",
    "                check = 1\n",
    "            if i[0] + 7 == i[1] and i[1] + 7 == i[2] and i[2] + 7 == i[3] :  # cas biais vers la gauche\n",
    "                check = 1\n",
    "            if i[0] + 8 == i[1] and i[1] + 8 == i[2] and i[2] + 8 == i[3] : # cas horizontal\n",
    "                check = 1 \n",
    "        if check == 1:\n",
    "            print(\"The game is over\")\n",
    "def Visualize():\n",
    "    ax = sns.heatmap(damier, linewidth = 1, vmin = 0, vmax = 2, annot= False, xticklabels = False, yticklabels = False, cbar = False)\n",
    "    plt.title(\"Grid of the game \")\n",
    "    plt.show()\n",
    "    return\n",
    "    \n",
    "def IAEazyMod():\n",
    "    placeFree = []\n",
    "    modifiedDamier = []\n",
    "    for i in damier :\n",
    "        modifiedDamier.extend(list(i)) \n",
    "    for i in range(len(modifiedDamier)) :\n",
    "        if modifiedDamier[i] == 0 :\n",
    "            placeFree.append(i)\n",
    "    index = np.random.choice(placeFree)\n",
    "    x = index % 6\n",
    "    y = int((index) / 7 )\n",
    "    damier[y][x]= 2\n",
    "    return\n"
   ]
  },
  {
   "cell_type": "code",
   "execution_count": 2,
   "metadata": {
    "scrolled": false
   },
   "outputs": [
    {
     "data": {
      "image/png": "[encoded data removed]",
      "text/plain": [
       "<Figure size 432x288 with 1 Axes>"
      ]
     },
     "metadata": {},
     "output_type": "display_data"
    },
    {
     "name": "stdout",
     "output_type": "stream",
     "text": [
      "Please enter the number of the case where you want to put your coin:\n",
      "15\n"
     ]
    },
    {
     "data": {
      "image/png": "[encoded data removed]",
      "text/plain": [
       "<Figure size 432x288 with 1 Axes>"
      ]
     },
     "metadata": {},
     "output_type": "display_data"
    },
    {
     "name": "stdout",
     "output_type": "stream",
     "text": [
      "Please enter the number of the case where you want to put your coin:\n",
      "2\n"
     ]
    },
    {
     "data": {
      "image/png": "[encoded data removed]",
      "text/plain": [
       "<Figure size 432x288 with 1 Axes>"
      ]
     },
     "metadata": {},
     "output_type": "display_data"
    },
    {
     "name": "stdout",
     "output_type": "stream",
     "text": [
      "Please enter the number of the case where you want to put your coin:\n",
      "12\n"
     ]
    },
    {
     "data": {
      "image/png": "[encoded data removed]",
      "text/plain": [
       "<Figure size 432x288 with 1 Axes>"
      ]
     },
     "metadata": {},
     "output_type": "display_data"
    },
    {
     "name": "stdout",
     "output_type": "stream",
     "text": [
      "Please enter the number of the case where you want to put your coin:\n",
      "16\n",
      "The game is over\n"
     ]
    },
    {
     "data": {
      "image/png": "[encoded data removed]",
      "text/plain": [
       "<Figure size 432x288 with 1 Axes>"
      ]
     },
     "metadata": {},
     "output_type": "display_data"
    }
   ],
   "source": [
    "Visualize()\n",
    "while check == 0:\n",
    "    MakeAMove()\n",
    "    Checker(1)\n",
    "    IAEazyMod()\n",
    "    Checker(2)\n",
    "    Visualize()"
   ]
  },
  {
   "cell_type": "code",
   "execution_count": null,
   "metadata": {},
   "outputs": [],
   "source": []
  },
  {
   "cell_type": "code",
   "execution_count": 4,
   "metadata": {},
   "outputs": [],
   "source": [
    "import tkinter\n",
    "top = tkinter.Tk()\n",
    "# Code to add widgets will go here...\n",
    "top.mainloop()"
   ]
  },
  {
   "cell_type": "code",
   "execution_count": null,
   "metadata": {},
   "outputs": [],
   "source": []
  }
 ],
 "metadata": {
  "kernelspec": {
   "display_name": "Python 3",
   "language": "python",
   "name": "python3"
  },
  "language_info": {
   "codemirror_mode": {
    "name": "ipython",
    "version": 3
   },
   "file_extension": ".py",
   "mimetype": "text/x-python",
   "name": "python",
   "nbconvert_exporter": "python",
   "pygments_lexer": "ipython3",
   "version": "3.7.1"
  }
 },
 "nbformat": 4,
 "nbformat_minor": 2
}
